{
 "cells": [
  {
   "cell_type": "code",
   "execution_count": 11,
   "id": "9c5ada7c-25eb-4b9e-83d6-6d798a505df4",
   "metadata": {},
   "outputs": [],
   "source": [
    "import numpy as np\n",
    "import matplotlib.pyplot as plt\n",
    "from variogramfitnew import variogramfit\n",
    "from krigingnew import kriging\n",
    "from a_star_alg import a_star_path"
   ]
  },
  {
   "cell_type": "code",
   "execution_count": 14,
   "id": "6a707b58-d7c6-4027-93b3-de25324f7496",
   "metadata": {},
   "outputs": [],
   "source": [
    "def build_experimental_variogram(x, y, values, bins=10, max_dist=None):\n",
    "    from scipy.spatial.distance import pdist # pairwise euclidean distance between points\n",
    "\n",
    "    coords = np.column_stack((x, y)) # combine x,y into single 2D array shape\n",
    "    dists = pdist(coords)\n",
    "    diffs = pdist(values.reshape(-1, 1)) ** 2 / 2 # Reshape: makes sure values r column vector, **2/2 for computing semivariance\n",
    "\n",
    "    if max_dist is None:\n",
    "        max_dist = np.max(dists) * 0.7 #ignore outlierrs that arer more than 70% of the max distance\n",
    "\n",
    "    bin_edges = np.linspace(0, max_dist, bins + 1)# Bin edges into equal-length intervals\n",
    "    bin_indices = np.digitize(dists, bin_edges)# bin_indices maps each pair to a bin.\n",
    "\n",
    "    h, gamma, numobs = [], [], [] # avg distance of the bin, avg semivariance(y-axis of varigram), number of point-pairs in the bin\n",
    "    for i in range(1, bins + 1):\n",
    "        mask = bin_indices == i\n",
    "        if np.any(mask):\n",
    "            h.append(np.mean(dists[mask]))\n",
    "            gamma.append(np.mean(diffs[mask]))\n",
    "            numobs.append(np.sum(mask))\n",
    "\n",
    "    return np.array(h), np.array(gamma), np.array(numobs)"
   ]
  },
  {
   "cell_type": "code",
   "execution_count": 15,
   "id": "5336c361-8b9a-4674-a4d4-d6b91afe97ba",
   "metadata": {},
   "outputs": [],
   "source": [
    "def load_sensor_data(filename):\n",
    "    sensor_data = []\n",
    "    with open(filename, \"r\") as f:\n",
    "        for line in f:\n",
    "            parts = line.strip().split(\",\")\n",
    "            if len(parts) != 7:\n",
    "                continue  # skip malformed lines\n",
    "            vwc, temp, ec = map(float, parts[0:3])\n",
    "            lon = float(parts[3])\n",
    "            lat = float(parts[4])\n",
    "            timestamp = parts[5]\n",
    "            robot_id = parts[6]\n",
    "            sensor_data.append((vwc, temp, ec, f\"{lon} {lat}\", timestamp, robot_id))\n",
    "    return sensor_data"
   ]
  },
  {
   "cell_type": "code",
   "execution_count": 16,
   "id": "45a33bd5-b47f-40b0-a646-0d37d513ccf0",
   "metadata": {},
   "outputs": [],
   "source": [
    "def grid_to_longlat(i, j, grid_shape, lon_min, lon_max, lat_min, lat_max):\n",
    "    nx, ny = grid_shape\n",
    "    lon = lon_min + (lon_max - lon_min) * (j / (nx - 1))\n",
    "    lat = lat_min + (lat_max - lat_min) * (i / (ny - 1))\n",
    "    return lon, lat"
   ]
  },
  {
   "cell_type": "code",
   "execution_count": 17,
   "id": "da3e29a8-21eb-4e48-a2cc-4addc88f8795",
   "metadata": {},
   "outputs": [],
   "source": [
    "def kriging_traverse_maze(file: str, grid_shape: tuple = (50, 50)):\n",
    "    sensor_data = load_sensor_data(file)\n",
    "\n",
    "    # Extract x (lon), y (lat), vwc values\n",
    "    x, y, vwc = [], [], []\n",
    "    for v, temp, ec, coord_str, time_str, robot_id in sensor_data:\n",
    "        lon, lat = map(float, coord_str.strip().split())\n",
    "        x.append(lon)\n",
    "        y.append(lat)\n",
    "        vwc.append(float(v))\n",
    "\n",
    "    x = np.array(x)\n",
    "    y = np.array(y)\n",
    "    vwc = np.array(vwc)\n",
    "\n",
    "    lon_min, lon_max = np.min(x), np.max(x)\n",
    "    lat_min, lat_max = np.min(y), np.max(y)\n",
    "    #print(f\"Longitude range: {lon_min} to {lon_max}\")\n",
    "    #print(f\"Latitude range: {lat_min} to {lat_max}\")\n",
    "\n",
    "    # Experimental variogram\n",
    "    h, gammaexp, numobs = build_experimental_variogram(x, y, vwc)\n",
    "\n",
    "    # Variogram fitting\n",
    "    a, c, nugget, vstruct = variogramfit(\n",
    "        h, gammaexp, numobs=numobs, model=\"spherical\", nugget=0.05, plotit=False\n",
    "    )\n",
    "\n",
    "    # Grid setup for kriging\n",
    "    grid_x_vals = np.linspace(lon_min, lon_max, grid_shape[0])\n",
    "    grid_y_vals = np.linspace(lat_min, lat_max, grid_shape[1])\n",
    "    grid_x, grid_y = np.meshgrid(grid_x_vals, grid_y_vals)\n",
    "\n",
    "    # Kriging\n",
    "    mean_map, var_map = kriging(vstruct, x, y, vwc, grid_x, grid_y)\n",
    "\n",
    "    # Robot goal selection\n",
    "    next_goals = {}\n",
    "    for robot_id in set(entry[5] for entry in sensor_data):\n",
    "        recent_entry = next(e for e in reversed(sensor_data) if e[5] == robot_id)\n",
    "        lon, lat = map(float, recent_entry[3].strip().split())\n",
    "\n",
    "        i = np.abs(grid_x_vals - lon).argmin()\n",
    "        j = np.abs(grid_y_vals - lat).argmin()\n",
    "        current = (j, i)\n",
    "\n",
    "        target = np.unravel_index(np.argmax(var_map), var_map.shape)\n",
    "\n",
    "        try:\n",
    "            path = a_star_path(current, target, var_map)\n",
    "            if len(path) > 1:\n",
    "                next_goals[robot_id] = path[1]\n",
    "            else:\n",
    "                next_goals[robot_id] = target\n",
    "        except Exception as e:\n",
    "            print(f\"Path planning failed for robot {robot_id}: {e}\")\n",
    "            next_goals[robot_id] = target\n",
    "\n",
    "    return var_map, next_goals, (lon_min, lon_max, lat_min, lat_max)"
   ]
  },
  {
   "cell_type": "code",
   "execution_count": 19,
   "id": "b9a45082-f0d5-41f8-af86-be785a068326",
   "metadata": {},
   "outputs": [
    {
     "name": "stdout",
     "output_type": "stream",
     "text": [
      "\n",
      "Next Robot Goals:\n",
      "Robot 0 → Cell (48, 0) → GPS (-74.172800, 40.853000)\n",
      "\n",
      "Next Robot Goals:\n",
      "Robot 0 → Cell (48, 0) → GPS (-74.172800, 41.338333)\n",
      "\n",
      "Next Robot Goals:\n",
      "Robot 0 → Cell (48, 0) → GPS (-74.172800, 43.926776)\n",
      "\n",
      "Next Robot Goals:\n",
      "Robot 0 → Cell (48, 0) → GPS (-74.172800, 57.731805)\n",
      "\n",
      "Next Robot Goals:\n",
      "Robot 0 → Cell (48, 0) → GPS (-74.172800, 131.358627)\n"
     ]
    },
    {
     "data": {
      "text/plain": [
       "Text(0, 0.5, 'Y grid')"
      ]
     },
     "execution_count": 19,
     "metadata": {},
     "output_type": "execute_result"
    },
    {
     "data": {
      "image/png": "[encoded data removed]",
      "text/plain": [
       "<Figure size 640x480 with 2 Axes>"
      ]
     },
     "metadata": {},
     "output_type": "display_data"
    }
   ],
   "source": [
    "num_runs=5;\n",
    "while num_runs>0:\n",
    "    var_map, next_goals, bounds = kriging_traverse_maze(\"sensorData.txt\")\n",
    "    lon_min, lon_max, lat_min, lat_max = bounds\n",
    "    \n",
    "    print(\"\\nNext Robot Goals:\")\n",
    "    for robot, (i, j) in next_goals.items():\n",
    "        lon, lat = grid_to_longlat(i, j, (10, 10), lon_min, lon_max, lat_min, lat_max)\n",
    "        print(f\"Robot {robot} → Cell ({i}, {j}) → GPS ({lon:.6f}, {lat:.6f})\")\n",
    "        with open(\"sensorData.txt\", \"a\") as file:\n",
    "            file.write(f\"0.22,24.7,1.3,{lon:.6f},{lat:.6f},15:08:00,0\\n\")\n",
    "        #print(f\"0.22,24.7,1.3,{lon:.6f},{lat:.6f},15:08:00,0\")\n",
    "        #FIX\n",
    "        with open(\"db.txt\", 'r') as db:\n",
    "            lines = db.readlines()\n",
    "    \n",
    "        robot_found = False\n",
    "        for i, line in enumerate(lines):\n",
    "            if line.startswith(robot + \",\"):\n",
    "                lines[i] = f\"{robot},{lon},{lat}\\n\"\n",
    "                robot_found = True\n",
    "                break\n",
    "        # If the robot was not found, append a new line\n",
    "        if not robot_found:\n",
    "            lines.append(f\"{robot},{lon},{lat}\\n\")\n",
    "        # Write the updated lines back to db.txt\n",
    "        with open(\"db.txt\", 'w') as db:\n",
    "            db.writelines(lines)\n",
    "    num_runs = num_runs-1\n",
    "\n",
    "plt.imshow(var_map, origin=\"lower\", cmap=\"viridis\")\n",
    "plt.colorbar(label=\"Kriging Variance\")\n",
    "plt.title(\"Kriging Variance Map\")\n",
    "plt.xlabel(\"X grid\")\n",
    "plt.ylabel(\"Y grid\")"
   ]
  },
  {
   "cell_type": "code",
   "execution_count": null,
   "id": "4170ba83-ca14-4fa7-a311-4b44cc400c09",
   "metadata": {},
   "outputs": [],
   "source": []
  }
 ],
 "metadata": {
  "kernelspec": {
   "display_name": "Python 3 (ipykernel)",
   "language": "python",
   "name": "python3"
  },
  "language_info": {
   "codemirror_mode": {
    "name": "ipython",
    "version": 3
   },
   "file_extension": ".py",
   "mimetype": "text/x-python",
   "name": "python",
   "nbconvert_exporter": "python",
   "pygments_lexer": "ipython3",
   "version": "3.13.5"
  }
 },
 "nbformat": 4,
 "nbformat_minor": 5
}
